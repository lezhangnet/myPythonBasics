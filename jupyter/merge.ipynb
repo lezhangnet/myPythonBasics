{
 "cells": [
  {
   "cell_type": "code",
   "execution_count": null,
   "metadata": {},
   "outputs": [],
   "source": [
    "import pandas as pd"
   ]
  },
  {
   "cell_type": "code",
   "execution_count": null,
   "metadata": {},
   "outputs": [],
   "source": [
    "df1_dummy = {\n",
    "    \"serial_id\" :  [\"1\", \"2\", \"3\", \"4\", \"5\"],\n",
    "    \"sale_month\" : [\"Jan\", \"Feb\", \"Mar\", \"Apr\", \"May\"],\n",
    "    \"sales\" :      [\"12300\", \"25100\", \"17800\", \"20100\", \"21000\"]\n",
    "}\n",
    "df1 = pd.DataFrame(df1_dummy, columns = [\"serial_id\", \"sale_month\", \"sales\"])\n",
    "df1"
   ]
  },
  {
   "cell_type": "code",
   "execution_count": null,
   "metadata": {},
   "outputs": [],
   "source": [
    "df2_dummy = {\n",
    "    \"serial_id\" :  [\"6\", \"7\", \"8\", \"9\", \"10\"],\n",
    "    \"sale_month\" : [\"Jun\", \"Jul\", \"Aug\", \"Sep\", \"Oct\"],\n",
    "    \"sales\" :      [\"25000\", \"23700\", \"24600\", \"24000\", \"23950\"]\n",
    "}\n",
    "df2 = pd.DataFrame(df2_dummy, columns = [\"serial_id\", \"sale_month\", \"sales\"])\n",
    "df2"
   ]
  },
  {
   "cell_type": "code",
   "execution_count": null,
   "metadata": {},
   "outputs": [],
   "source": [
    "df_row = pd.concat([df1, df2]) # this messes the index, see below with ignore_index=True\n",
    "df_row"
   ]
  },
  {
   "cell_type": "code",
   "execution_count": null,
   "metadata": {},
   "outputs": [],
   "source": [
    "df_row = pd.concat([df1, df2], ignore_index = True)\n",
    "df_row"
   ]
  },
  {
   "cell_type": "code",
   "execution_count": null,
   "metadata": {},
   "outputs": [],
   "source": [
    "df3_dummy = {\n",
    "    \"sales_threshold\" : [\"No\", \"Yes\", \"No\", \"Yes\", \"Yes\", \"Yes\", \"Yes\", \"Yes\", \"Yes\", \"Yes\"],\n",
    "    \"bonus_threshold\" : [\"No\", \"Yes\", \"No\", \"No\", \"No\", \"Yes\", \"No\", \"Yes\", \"Yes\", \"No\"]\n",
    "}\n",
    "df3 = pd.DataFrame(df3_dummy, columns = [\"sales_threshold\", \"bonus_threshold\"])\n",
    "df3"
   ]
  },
  {
   "cell_type": "code",
   "execution_count": null,
   "metadata": {},
   "outputs": [],
   "source": [
    "df_full = pd.concat([df_row, df3], axis = 1)\n",
    "df_full"
   ]
  },
  {
   "cell_type": "code",
   "execution_count": null,
   "metadata": {},
   "outputs": [],
   "source": [
    "df_append = df1.append(df2) # same as concat\n",
    "df_append"
   ]
  },
  {
   "cell_type": "code",
   "execution_count": null,
   "metadata": {},
   "outputs": [],
   "source": [
    "df_append_full = df_append.append(df3)\n",
    "df_append_full"
   ]
  },
  {
   "cell_type": "code",
   "execution_count": null,
   "metadata": {},
   "outputs": [],
   "source": [
    "# END"
   ]
  }
 ],
 "metadata": {
  "kernelspec": {
   "display_name": "Python 3",
   "language": "python",
   "name": "python3"
  },
  "language_info": {
   "codemirror_mode": {
    "name": "ipython",
    "version": 3
   },
   "file_extension": ".py",
   "mimetype": "text/x-python",
   "name": "python",
   "nbconvert_exporter": "python",
   "pygments_lexer": "ipython3",
   "version": "3.8.3-final"
  }
 },
 "nbformat": 4,
 "nbformat_minor": 4
}